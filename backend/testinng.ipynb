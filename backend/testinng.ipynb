{
 "cells": [
  {
   "cell_type": "code",
   "execution_count": 6,
   "metadata": {},
   "outputs": [
    {
     "name": "stderr",
     "output_type": "stream",
     "text": [
      "[2024-12-07 14:09:20,456][INFO] Logging is set to INFO, use `logging_level` argument or `COMPOSIO_LOGGING_LEVEL` change this\n"
     ]
    },
    {
     "name": "stdout",
     "output_type": "stream",
     "text": [
      "3a62f5eb-40b5-4433-8a98-35c4f0947d71 INITIATED\n",
      "https://accounts.google.com/o/oauth2/v2/auth?client_id=967786027051-8p515bt7ijf94c2bf4a5lev5jr6r7oc1.apps.googleusercontent.com&redirect_uri=https%3A%2F%2Fbackend.composio.dev%2Fapi%2Fv1%2Fauth-apps%2Fadd&scope=https%3A%2F%2Fwww.googleapis.com%2Fauth%2Fgmail.modify+https%3A%2F%2Fwww.googleapis.com%2Fauth%2Fuserinfo.profile&response_type=code&access_type=offline&prompt=consent&state=production_eyJhbGciOiJIUzI1NiIsInR5cCI6IkpXVCJ9.eyJjb25uZWN0aW9uSWQiOiIzYTYyZjVlYi00MGI1LTQ0MzMtOGE5OC0zNWM0ZjA5NDdkNzEiLCJpbnRlZ3JhdGlvbklkIjoiZjg0NTgyN2EtODg4NC00NWM4LWIxZTctZWZhYjk5ZWNhNDY5IiwiYXBwTmFtZSI6ImdtYWlsIiwiY2xpZW50SW5mbyI6eyJwcm9qZWN0SWQiOiJlNjM1NzMxZi03YmNhLTRlMmQtYjllMC0wYWRkNmU4MTk5NmMiLCJtZW1iZXJJZCI6ImI0YTkwODBmLWI4MDktNDJhMS1hNTk1LWNmZjBmMzRjNTRhZSJ9LCJpYXQiOjE3MzM1NDA5NjJ9.jrzxDxppi_8Pi3c5IjlaSdwWQEeVecPXGXPggPE-T8A&code_challenge=GJBhgF_VnXcA4Cy-F2VZ0Mk81KvWoiklrmbTfpCeybI&code_challenge_method=S256\n"
     ]
    }
   ],
   "source": [
    "\n",
    "from composio import ComposioToolSet, App\n",
    "\n",
    "user_id = \"chrisyooak@gmail.com\"\n",
    "app_name = \"gmail\"\n",
    "auth_scheme = \"OAUTH2\"\n",
    "\n",
    "\n",
    "toolset = ComposioToolSet()\n",
    "\n",
    "connection_request = toolset.initiate_connection(\n",
    "    app=app_name,\n",
    "    redirect_url = 'https://yourwebsite.com/connection-success', # user comes here after oauth flow\n",
    "    entity_id=user_id,\n",
    "    auth_scheme=auth_scheme,\n",
    ")\n",
    "\n",
    "print(connection_request.connectedAccountId,connection_request.connectionStatus)\n",
    "# Redirect user to the redirect url so they complete the oauth flow\n",
    "print(connection_request.redirectUrl)\n",
    "  "
   ]
  },
  {
   "cell_type": "code",
   "execution_count": 3,
   "metadata": {},
   "outputs": [
    {
     "name": "stderr",
     "output_type": "stream",
     "text": [
      "[2024-12-07 14:01:30,789][INFO] Logging is set to INFO, use `logging_level` argument or `COMPOSIO_LOGGING_LEVEL` change this\n"
     ]
    },
    {
     "name": "stdout",
     "output_type": "stream",
     "text": [
      "ACTIVE\n"
     ]
    }
   ],
   "source": [
    "\n",
    "from composio import ComposioToolSet, App, action\n",
    "\n",
    "toolset = ComposioToolSet()\n",
    "\n",
    "# validate the connection is active\n",
    "connected_account = toolset.get_connected_account(id=connection_request.connectedAccountId)\n",
    "print(connected_account.status)  # should be active\n",
    "\n",
    "# you can also wait until the connection is active\n",
    "# connection_request.wait_until_active(toolset.client,timeout=60)"
   ]
  },
  {
   "cell_type": "code",
   "execution_count": null,
   "metadata": {},
   "outputs": [
    {
     "name": "stderr",
     "output_type": "stream",
     "text": [
      "[2024-12-07 14:02:09,252][INFO] Logging is set to INFO, use `logging_level` argument or `COMPOSIO_LOGGING_LEVEL` change this\n"
     ]
    }
   ],
   "source": [
    "\n",
    "from composio_langchain import ComposioToolSet, action, Action\n",
    "import typing as t\n",
    "\n",
    "@action(toolname=\"gmail\")\n",
    "def my_custom_action(param1: str, param2: str, execute_request: t.Callable) -> str:\n",
    "    \"\"\"\n",
    "    my custom action description which will be passed to llm\n",
    "\n",
    "    :param param1: param1 description which will be passed to llm\n",
    "    :param param2: param2 description which will be passed to llm\n",
    "    :return info: return description\n",
    "    \"\"\"\n",
    "\n",
    "    response = execute_request(\n",
    "        \"GET\",\n",
    "        \"/my_action_endpoint\",\n",
    "        {}, # body can be added here\n",
    "        [{\"in_\": \"query\", \"name\": \"page\", \"value\": \"1\"}] # any parameters can be added here header, query params, etc\n",
    "    )    # execute requests by appending credentials to the request\n",
    "    return str(response) # complete auth dict is available for local use if needed\n",
    "\n",
    "  \n",
    "toolset = ComposioToolSet(entity_id=\"chrisyooak@gmail.com\")\n",
    "tools = toolset.get_tools(actions=[Action.GMAIL_SEND_EMAIL])\n",
    "  "
   ]
  },
  {
   "cell_type": "code",
   "execution_count": 5,
   "metadata": {},
   "outputs": [
    {
     "data": {
      "text/plain": [
       "[StructuredTool(name='GMAIL_MY_CUSTOM_ACTION', description='my custom action description which will be passed to llm', args_schema=<class 'composio.utils.shared.MyCustomActionRequest'>, func=<function ComposioToolSet._wrap_action.<locals>.function at 0x11c1da840>)]"
      ]
     },
     "execution_count": 5,
     "metadata": {},
     "output_type": "execute_result"
    }
   ],
   "source": [
    "tools"
   ]
  },
  {
   "cell_type": "code",
   "execution_count": null,
   "metadata": {},
   "outputs": [],
   "source": []
  }
 ],
 "metadata": {
  "kernelspec": {
   "display_name": "Python 3",
   "language": "python",
   "name": "python3"
  },
  "language_info": {
   "codemirror_mode": {
    "name": "ipython",
    "version": 3
   },
   "file_extension": ".py",
   "mimetype": "text/x-python",
   "name": "python",
   "nbconvert_exporter": "python",
   "pygments_lexer": "ipython3",
   "version": "3.12.0"
  }
 },
 "nbformat": 4,
 "nbformat_minor": 2
}
